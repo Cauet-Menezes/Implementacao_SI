{
  "nbformat": 4,
  "nbformat_minor": 0,
  "metadata": {
    "colab": {
      "provenance": []
    },
    "kernelspec": {
      "name": "python3",
      "display_name": "Python 3"
    },
    "language_info": {
      "name": "python"
    }
  },
  "cells": [
    {
      "cell_type": "code",
      "execution_count": 2,
      "metadata": {
        "id": "_gfH3MuLDu3b"
      },
      "outputs": [],
      "source": [
        "import pandas as pd"
      ]
    },
    {
      "cell_type": "markdown",
      "source": [
        "# Lançamento de crédito e Lançamento de débito"
      ],
      "metadata": {
        "id": "sqAvqyGQvsSP"
      }
    },
    {
      "cell_type": "code",
      "source": [
        "dados = pd.read_csv(\"dadosAuditoria.csv\")\n",
        "\n",
        "df = pd.DataFrame(dados)\n",
        "print(df.head())\n",
        "print('\\n')\n",
        "\n",
        "# Converter a coluna de datas para o formato datetime\n",
        "df['Data'] = pd.to_datetime(df['Data'], format ='%d/%m/%Y')\n",
        "\n",
        "#Agrupar por data e tipo de operação, contando o número de operações por combinação\n",
        "operacoes_por_dia_tipo = df.groupby(['Data', 'Operação']).size().reset_index(name='contagem_operacoes')\n",
        "\n",
        "# Filtrar os grupos que tiveram mais de uma operação\n",
        "dias_com_mais_de_uma_operacao = operacoes_por_dia_tipo[operacoes_por_dia_tipo['contagem_operacoes'] > 1]\n",
        "\n",
        "# Exibir o resultado\n",
        "print(dias_com_mais_de_uma_operacao)\n",
        "print('\\n')\n"
      ],
      "metadata": {
        "colab": {
          "base_uri": "https://localhost:8080/"
        },
        "id": "yhuiue2ND5vo",
        "outputId": "c7f62611-7d00-4dd6-9931-bc8e6347fcb4"
      },
      "execution_count": 4,
      "outputs": [
        {
          "output_type": "stream",
          "name": "stdout",
          "text": [
            "  Contas Operação        Data   Valor\n",
            "0  Caixa   Débito  05/09/2023  594,83\n",
            "1  Caixa   Débito  07/09/2023   160,5\n",
            "2  Caixa   Débito  09/09/2023  964,67\n",
            "3  Caixa   Débito  18/09/2023  916,11\n",
            "4  Caixa   Débito  26/09/2023  202,93\n",
            "\n",
            "\n",
            "         Data Operação  contagem_operacoes\n",
            "19 2023-09-10   Débito                   2\n",
            "28 2023-09-15  Crédito                   2\n",
            "\n",
            "\n",
            "Foi identificado na extração dos dados que temos mais de uma operação de crédito e débito nos dos meses auditados\n"
          ]
        }
      ]
    },
    {
      "cell_type": "markdown",
      "source": [
        "De acordo com os dados acima, foi identificado que no dia 10/09/2023 ocorreram duas operações de débito e no dia 15/09/2023 duas operações de crédito."
      ],
      "metadata": {
        "id": "xF--den-ww00"
      }
    },
    {
      "cell_type": "markdown",
      "source": [
        "# Saldo zerado"
      ],
      "metadata": {
        "id": "MLXUEe2PwJ24"
      }
    },
    {
      "cell_type": "code",
      "source": [
        "\n",
        "# Converter a coluna de datas para o formato datetime\n",
        "df['Data'] = pd.to_datetime(df['Data'], format='%d/%m/%Y')\n",
        "\n",
        "# Extrair o mês da coluna de data\n",
        "df['mes'] = df['Data'].dt.to_period('M')\n",
        "\n",
        "#Convertendo o valor para float\n",
        "df['Valor'] = df['Valor'].str.replace(',', '.').astype(float)\n",
        "\n",
        "# Agrupar por mês e operação e somar os valores\n",
        "soma_por_mes = df.groupby(['mes', 'Operação'])['Valor'].sum().unstack(fill_value=0).astype(float)\n",
        "\n",
        "# Subtrair os valores de débito dos créditos para calcular o saldo\n",
        "soma_por_mes['Saldo'] = soma_por_mes['Crédito'] - soma_por_mes['Débito']\n",
        "\n",
        "# Exibir o resultado\n",
        "print(soma_por_mes)\n",
        "\n"
      ],
      "metadata": {
        "colab": {
          "base_uri": "https://localhost:8080/"
        },
        "id": "Gc7bWGmWFEJm",
        "outputId": "6f43c8be-c888-4cfc-bb1f-05a620154046"
      },
      "execution_count": null,
      "outputs": [
        {
          "output_type": "stream",
          "name": "stdout",
          "text": [
            "Operação   Crédito    Débito  Saldo\n",
            "mes                                \n",
            "2023-09   18549.81  18473.25  76.56\n",
            "2023-10   15927.89  15927.89   0.00\n"
          ]
        }
      ]
    },
    {
      "cell_type": "markdown",
      "source": [
        "No mes de setembro não o saldo não zerou, quebrando a restrição de o saldo estar zerado para ser impresso"
      ],
      "metadata": {
        "id": "J-HIuizvxM5W"
      }
    }
  ]
}